{
 "cells": [
  {
   "cell_type": "code",
   "execution_count": 1,
   "metadata": {},
   "outputs": [
    {
     "name": "stdout",
     "output_type": "stream",
     "text": [
      "Loading condition data from ../../dataset/source_dataset/USPTO_condition_final/\n",
      "Loading database dataframe...\n",
      "Loading label dict...\n",
      "Condition name: catalyst1, categories: 54\n",
      "########################################################\n",
      "Condition name: solvent1, categories: 85\n",
      "########################################################\n",
      "Condition name: solvent2, categories: 41\n",
      "########################################################\n",
      "Condition name: reagent1, categories: 223\n",
      "########################################################\n",
      "Condition name: reagent2, categories: 95\n",
      "########################################################\n"
     ]
    }
   ],
   "source": [
    "from rdkit import Chem\n",
    "from rdkit.Chem import Draw\n",
    "from rdkit import RDLogger\n",
    "RDLogger.DisableLog('rdApp.*')\n",
    "\n",
    "\n",
    "import sys\n",
    "sys.path.append('../../baseline_model/')\n",
    "from train_baseline_model import ConditionDataset, load_dataset\n",
    "from test_baseline_model_ood import load_test_dataset, load_dataset_label\n",
    "import yaml\n",
    "\n",
    "final_condition_data_path = '../../dataset/source_dataset/USPTO_condition_final/'\n",
    "_, label_dict = load_dataset_label(\n",
    "    final_condition_data_path, 'USPTO_condition', use_temperature=False)"
   ]
  },
  {
   "cell_type": "code",
   "execution_count": 2,
   "metadata": {},
   "outputs": [],
   "source": [
    "def get_condition_smiles(condition_name, label_dict):\n",
    "    return list(label_dict[condition_name][0][0].values())\n",
    "\n",
    "def draw_condition(smiles_list, molsPerRow=3, subImgSize=(150, 150)):\n",
    "    smiles_list = [x for x in smiles_list if x]\n",
    "    print(f'show {len(smiles_list)} molecules')\n",
    "    mols = [Chem.MolFromSmiles(x) for x in smiles_list]\n",
    "    return display(Draw.MolsToGridImage(mols, molsPerRow=molsPerRow, \n",
    "                               subImgSize=subImgSize,\n",
    "                               legends=smiles_list,\n",
    "                               maxMols=999999\n",
    "                               ))\n",
    "def canonicalize_smiles(smi):\n",
    "    mol = Chem.MolFromSmiles(smi)\n",
    "    return Chem.MolToSmiles(mol)"
   ]
  },
  {
   "cell_type": "code",
   "execution_count": 4,
   "metadata": {},
   "outputs": [],
   "source": [
    "from urllib.request import urlopen\n",
    "from urllib.parse import quote\n",
    "from tqdm import tqdm\n",
    "import json\n",
    "\n",
    "def CIRconvert(ids):\n",
    "    try:\n",
    "        url = 'http://cactus.nci.nih.gov/chemical/structure/' + quote(ids) + '/smiles'\n",
    "        ans = urlopen(url).read().decode('utf8')\n",
    "        return ans\n",
    "    except:\n",
    "        return ''\n"
   ]
  },
  {
   "cell_type": "code",
   "execution_count": 5,
   "metadata": {},
   "outputs": [],
   "source": [
    "# Driver M D, Hunter C A. Solvent similarity index[J]. Physical Chemistry Chemical Physics, 2020, 22(21): 11967-11975.\n",
    "# Dendrogram for solvents 14 parts\n",
    "import os\n",
    "from collections import defaultdict\n",
    "\n",
    "convert_erro_solvent_classfication_ssi = defaultdict(list)\n",
    "solvent_classfication_ssi = defaultdict(list)\n",
    "dendrogram_cls_save_path = './condition_classfication_data/'\n",
    "solvent_classfication_ssi_save_path = os.path.join(dendrogram_cls_save_path, 'solvent_classfication_ssi.json')\n",
    "convert_erro_solvent_classfication_ssi_save_path = os.path.join(dendrogram_cls_save_path, 'convert_erro_solvent_classfication_ssi.json')\n",
    "if not os.path.exists(solvent_classfication_ssi_save_path):\n",
    "    files_list =[x for x in os.listdir(dendrogram_cls_save_path) if x.split('.')[-1] == 'txt']\n",
    "    for name_cls in tqdm(files_list):\n",
    "        with open(os.path.join(dendrogram_cls_save_path, name_cls), 'r', encoding='utf-8') as f:\n",
    "            data = [x.strip() for x in f.readlines()]\n",
    "        smiles_data = []\n",
    "        for solvent_name in data:\n",
    "            solvent_smiles = CIRconvert(solvent_name)\n",
    "            if solvent_smiles:\n",
    "                solvent_classfication_ssi[name_cls.split('.')[0]].append(solvent_smiles)\n",
    "                print('{}: {} --> {}'.format(name_cls.split('.')[0], solvent_name, solvent_smiles))\n",
    "            else:\n",
    "                convert_erro_solvent_classfication_ssi[name_cls.split('.')[0]].append(solvent_name)\n",
    "                print('convert fail in {}: {}!'.format(name_cls.split('.')[0], solvent_name))\n",
    "    with open(solvent_classfication_ssi_save_path, 'w', encoding='utf-8') as f:\n",
    "        json.dump(solvent_classfication_ssi, f)\n",
    "    with open(convert_erro_solvent_classfication_ssi_save_path, 'w', encoding='utf-8') as f:\n",
    "        json.dump(convert_erro_solvent_classfication_ssi, f)\n",
    "else:\n",
    "    with open(solvent_classfication_ssi_save_path, 'r', encoding='utf-8') as f:\n",
    "        solvent_classfication_ssi = json.load(f)\n",
    "    with open(convert_erro_solvent_classfication_ssi_save_path, 'r', encoding='utf-8') as f:\n",
    "        convert_erro_solvent_classfication_ssi = json.load(f)\n"
   ]
  },
  {
   "cell_type": "code",
   "execution_count": 6,
   "metadata": {},
   "outputs": [],
   "source": [
    "# dendrogram_cls_save_path = './condition_classfication_data/'\n",
    "# solvent_classfication_ssi_save_path = os.path.join(dendrogram_cls_save_path, 'solvent_classfication_ssi.json')\n",
    "# convert_erro_solvent_classfication_ssi_save_path = os.path.join(dendrogram_cls_save_path, 'convert_erro_solvent_classfication_ssi.json')\n",
    "# with open(solvent_classfication_ssi_save_path, 'w', encoding='utf-8') as f:\n",
    "#     json.dump(solvent_classfication_ssi, f)\n",
    "# with open(convert_erro_solvent_classfication_ssi_save_path, 'w', encoding='utf-8') as f:\n",
    "#     json.dump(convert_erro_solvent_classfication_ssi, f)"
   ]
  },
  {
   "cell_type": "code",
   "execution_count": 7,
   "metadata": {},
   "outputs": [],
   "source": [
    "canonical_solvent_classfication_ssi = defaultdict(list)\n",
    "keys = list(solvent_classfication_ssi.keys())\n",
    "keys.sort()\n",
    "for solvent_cls in keys:\n",
    "    solvent_cls_smiles_list = solvent_classfication_ssi[solvent_cls]\n",
    "    solvent_cls_smiles_list = [canonicalize_smiles(x) for x in solvent_cls_smiles_list]\n",
    "    canonical_solvent_classfication_ssi[solvent_cls] += solvent_cls_smiles_list\n",
    "    "
   ]
  },
  {
   "cell_type": "code",
   "execution_count": 8,
   "metadata": {},
   "outputs": [
    {
     "data": {
      "text/plain": [
       "{'OCC(O)CO': 'solvent_cls_1',\n",
       " 'OCCCO': 'solvent_cls_1',\n",
       " 'CN(C)P(=O)(N(C)C)N(C)C': 'solvent_cls_1',\n",
       " 'Cc1ccccc1': 'solvent_cls_10',\n",
       " 'Cc1cccc(C)c1': 'solvent_cls_10',\n",
       " 'Cc1ccc(C)cc1': 'solvent_cls_10',\n",
       " 'Cc1ccccc1C': 'solvent_cls_10',\n",
       " 'Cc1cc(C)cc(C)c1': 'solvent_cls_10',\n",
       " 'c1ccc2c(c1)CCCC2': 'solvent_cls_10',\n",
       " 'CC(C)c1ccccc1': 'solvent_cls_10',\n",
       " 'CCc1ccccc1': 'solvent_cls_10',\n",
       " 'C=Cc1ccccc1': 'solvent_cls_10',\n",
       " 'c1ccccc1': 'solvent_cls_10',\n",
       " 'c1ccc(Oc2ccccc2)cc1': 'solvent_cls_10',\n",
       " 'c1ccoc1': 'solvent_cls_10',\n",
       " 'C1CCSCC1': 'solvent_cls_10',\n",
       " 'CCSCC': 'solvent_cls_10',\n",
       " 'COc1ccccc1OC': 'solvent_cls_10',\n",
       " 'C1CCSC1': 'solvent_cls_10',\n",
       " 'CSC': 'solvent_cls_10',\n",
       " 'CCOc1ccccc1': 'solvent_cls_10',\n",
       " 'COc1ccccc1': 'solvent_cls_10',\n",
       " 'CN(C)c1ccccc1': 'solvent_cls_10',\n",
       " 'CC(C)SC(C)C': 'solvent_cls_10',\n",
       " 'CCCCSCCCC': 'solvent_cls_10',\n",
       " 'c1ccc(COCc2ccccc2)cc1': 'solvent_cls_10',\n",
       " 'FC(F)(F)C(F)(F)C(F)(F)C(F)(F)C(F)(F)C(F)(F)C(F)(F)C(F)(F)F': 'solvent_cls_11',\n",
       " 'FC(F)(F)C(F)(F)C(F)(F)C(F)(F)C(F)(F)C(F)(F)C(F)(F)F': 'solvent_cls_11',\n",
       " 'FC(F)(F)C(F)(F)C(F)(F)C(F)(F)C(F)(F)C(F)(F)F': 'solvent_cls_11',\n",
       " 'FC(F)(F)C1(F)C(F)(F)C(F)(F)C(F)(F)C(F)(F)C1(F)F': 'solvent_cls_11',\n",
       " 'FC1(F)C(F)(F)C(F)(F)[C@]2(F)C(F)(F)C(F)(F)C(F)(F)C(F)(F)[C@]2(F)C1(F)F': 'solvent_cls_11',\n",
       " 'ClC(Cl)=C(Cl)Cl': 'solvent_cls_11',\n",
       " 'ClC(Cl)(Cl)Cl': 'solvent_cls_11',\n",
       " 'Fc1ccccc1': 'solvent_cls_11',\n",
       " 'Clc1ccccc1': 'solvent_cls_11',\n",
       " 'Ic1ccccc1': 'solvent_cls_11',\n",
       " 'Brc1ccccc1': 'solvent_cls_11',\n",
       " 'CCCCI': 'solvent_cls_11',\n",
       " 'CCCCBr': 'solvent_cls_11',\n",
       " 'Clc1ccccc1Cl': 'solvent_cls_11',\n",
       " 'Clc1cccc(Cl)c1': 'solvent_cls_11',\n",
       " 'CC(Cl)(Cl)Cl': 'solvent_cls_11',\n",
       " 'Clc1ccc(Cl)c(Cl)c1': 'solvent_cls_11',\n",
       " 'Fc1c(F)c(F)c(F)c(F)c1F': 'solvent_cls_11',\n",
       " 'ClCCCCCl': 'solvent_cls_11',\n",
       " 'CC(Cl)Cl': 'solvent_cls_11',\n",
       " 'ClC=C(Cl)Cl': 'solvent_cls_11',\n",
       " 'Cl/C=C/Cl': 'solvent_cls_11',\n",
       " 'BrCCBr': 'solvent_cls_11',\n",
       " 'ICI': 'solvent_cls_11',\n",
       " 'ClC(Cl)C(Cl)Cl': 'solvent_cls_11',\n",
       " 'BrC(Br)Br': 'solvent_cls_11',\n",
       " 'ClC(Cl)C(Cl)(Cl)Cl': 'solvent_cls_11',\n",
       " 'ClC(Cl)Cl': 'solvent_cls_11',\n",
       " 'ClCCl': 'solvent_cls_11',\n",
       " 'BrCBr': 'solvent_cls_11',\n",
       " 'CCCCC': 'solvent_cls_12',\n",
       " 'C1CC[C@H]2CCCC[C@H]2C1': 'solvent_cls_12',\n",
       " 'CCC(C)C': 'solvent_cls_12',\n",
       " 'CC(C)CC(C)(C)C': 'solvent_cls_12',\n",
       " 'C1CCCCC1': 'solvent_cls_12',\n",
       " 'CCCCCCCC': 'solvent_cls_12',\n",
       " 'CCCCCCCCCCCCCCCC': 'solvent_cls_12',\n",
       " 'CCCCCCCCCCCC': 'solvent_cls_12',\n",
       " 'CCCCCC': 'solvent_cls_12',\n",
       " 'CCCCCCC': 'solvent_cls_12',\n",
       " 'C[Si](C)(C)C': 'solvent_cls_12',\n",
       " 'S=C=S': 'solvent_cls_12',\n",
       " 'OO': 'solvent_cls_13',\n",
       " 'NC=O': 'solvent_cls_13',\n",
       " 'O': 'solvent_cls_13',\n",
       " 'Oc1cccc(Cl)c1': 'solvent_cls_14',\n",
       " 'OC(C(F)(F)F)C(F)(F)F': 'solvent_cls_14',\n",
       " 'O=C(O)C(F)(F)F': 'solvent_cls_14',\n",
       " 'O=C(O)C(Cl)Cl': 'solvent_cls_14',\n",
       " 'O=S(=O)(O)O': 'solvent_cls_14',\n",
       " 'F': 'solvent_cls_14',\n",
       " 'OCCN(CCO)CCO': 'solvent_cls_2',\n",
       " 'OCCOCCO': 'solvent_cls_2',\n",
       " 'CC(O)CO': 'solvent_cls_2',\n",
       " 'OCCSCCO': 'solvent_cls_2',\n",
       " 'OCCNCCO': 'solvent_cls_2',\n",
       " 'CCO': 'solvent_cls_2',\n",
       " 'OCCCCO': 'solvent_cls_2',\n",
       " 'CCC(O)CO': 'solvent_cls_2',\n",
       " 'C[C@H](O)[C@@H](C)O': 'solvent_cls_2',\n",
       " 'OCCOCCOCCO': 'solvent_cls_2',\n",
       " 'OCc1ccccc1': 'solvent_cls_2',\n",
       " 'OCCc1ccccc1': 'solvent_cls_2',\n",
       " 'CC(C)CO': 'solvent_cls_2',\n",
       " 'CCC(C)(C)O': 'solvent_cls_2',\n",
       " 'CCCCCCCCO': 'solvent_cls_2',\n",
       " 'CCCCCCCCCCO': 'solvent_cls_2',\n",
       " 'CCCCCCCCCCCCO': 'solvent_cls_2',\n",
       " 'C=CCO': 'solvent_cls_2',\n",
       " 'CC(C)O': 'solvent_cls_2',\n",
       " 'CC(C)(C)O': 'solvent_cls_2',\n",
       " 'CCCO': 'solvent_cls_2',\n",
       " 'CCCCO': 'solvent_cls_2',\n",
       " 'CC(C)CCO': 'solvent_cls_2',\n",
       " 'CCCCCO': 'solvent_cls_2',\n",
       " 'CCCCCCO': 'solvent_cls_2',\n",
       " 'OC1CCCCC1': 'solvent_cls_2',\n",
       " 'CC(N)O': 'solvent_cls_2',\n",
       " 'COCCO': 'solvent_cls_2',\n",
       " 'CCOCCO': 'solvent_cls_2',\n",
       " 'CO': 'solvent_cls_2',\n",
       " 'OCCCCCO': 'solvent_cls_2',\n",
       " 'CNC=O': 'solvent_cls_2',\n",
       " 'OCCO': 'solvent_cls_2',\n",
       " 'CCC(C)O': 'solvent_cls_2',\n",
       " 'CCCCOC(=O)c1ccccc1C(=O)OCCCC': 'solvent_cls_3',\n",
       " 'CC12CCC(CC1)C(C)(C)O2': 'solvent_cls_3',\n",
       " 'CC(C)OC(C)C': 'solvent_cls_3',\n",
       " 'CCOCC': 'solvent_cls_3',\n",
       " 'CCCCOCCCC': 'solvent_cls_3',\n",
       " 'CCCOCCC': 'solvent_cls_3',\n",
       " 'C1CCOCC1': 'solvent_cls_3',\n",
       " 'CC1CCCO1': 'solvent_cls_3',\n",
       " 'COCCOCCOC': 'solvent_cls_3',\n",
       " 'CCCCN(CCCC)CCCC': 'solvent_cls_3',\n",
       " 'CCCOC(C)=O': 'solvent_cls_3',\n",
       " 'CCCCOC(C)=O': 'solvent_cls_3',\n",
       " 'CCOC(=O)CC': 'solvent_cls_3',\n",
       " 'CCC(=O)OC': 'solvent_cls_3',\n",
       " 'CC(=O)OCCC(C)C': 'solvent_cls_3',\n",
       " 'CC(C)(C)C(=O)C(C)(C)C': 'solvent_cls_3',\n",
       " 'CCOS(=O)OCC': 'solvent_cls_3',\n",
       " 'CCOC(=O)OCC': 'solvent_cls_3',\n",
       " 'C1COCO1': 'solvent_cls_3',\n",
       " 'COC([O-])[O-]': 'solvent_cls_3',\n",
       " 'COC(C)([O-])[O-]': 'solvent_cls_3',\n",
       " 'C1COCOC1': 'solvent_cls_3',\n",
       " 'COC(C)=O': 'solvent_cls_3',\n",
       " 'CCOC(=O)CC(=O)OCC': 'solvent_cls_3',\n",
       " 'CCOC=O': 'solvent_cls_3',\n",
       " 'CCOC(C)=O': 'solvent_cls_3',\n",
       " 'c1cncnc1': 'solvent_cls_3',\n",
       " 'COC=O': 'solvent_cls_3',\n",
       " 'COC(=O)OC': 'solvent_cls_3',\n",
       " 'COC(=O)c1ccccc1C(=O)OC': 'solvent_cls_3',\n",
       " 'O=C1CCCC1': 'solvent_cls_3',\n",
       " 'O=C1CCCCC1': 'solvent_cls_3',\n",
       " 'CCC(C)=O': 'solvent_cls_3',\n",
       " 'CCCC(C)=O': 'solvent_cls_3',\n",
       " 'CC(=O)C(C)(C)C': 'solvent_cls_3',\n",
       " 'CCC(=O)CC': 'solvent_cls_3',\n",
       " 'CCCCC(=O)CC': 'solvent_cls_3',\n",
       " 'CCCCCC(C)=O': 'solvent_cls_3',\n",
       " 'c1ccc2ncccc2c1': 'solvent_cls_3',\n",
       " 'O=CC=Cc1ccccc1': 'solvent_cls_3',\n",
       " 'CC(=O)c1ccccc1': 'solvent_cls_3',\n",
       " 'Brc1ccccn1': 'solvent_cls_3',\n",
       " 'COc1ccc(C=O)cc1': 'solvent_cls_3',\n",
       " 'Brc1cccnc1': 'solvent_cls_3',\n",
       " 'O=C(c1ccccc1)c1ccccc1': 'solvent_cls_3',\n",
       " 'CCC(=O)c1ccccc1': 'solvent_cls_3',\n",
       " 'CC(=O)Cc1ccccc1': 'solvent_cls_3',\n",
       " 'COC(=O)c1ccccc1': 'solvent_cls_3',\n",
       " 'CCCC=O': 'solvent_cls_3',\n",
       " 'CCOC(=O)c1ccccc1': 'solvent_cls_3',\n",
       " 'CCC=O': 'solvent_cls_3',\n",
       " 'CCOC(=O)CC(C)=O': 'solvent_cls_3',\n",
       " 'CCOS(=O)(=O)OCC': 'solvent_cls_3',\n",
       " 'ClCCOCCCl': 'solvent_cls_3',\n",
       " 'O=Cc1ccccc1': 'solvent_cls_3',\n",
       " 'COCCOC': 'solvent_cls_3',\n",
       " 'CC(=O)C(C)C': 'solvent_cls_3',\n",
       " 'CC(=O)c1cc(C)c(C)cc1C': 'solvent_cls_3',\n",
       " 'CC(=O)CC(C)C': 'solvent_cls_3',\n",
       " 'O=S1(=O)CCCC1': 'solvent_cls_4',\n",
       " 'NCc1ccccc1': 'solvent_cls_4',\n",
       " 'CC(C)=O': 'solvent_cls_4',\n",
       " 'CN1CCCC1=S': 'solvent_cls_4',\n",
       " 'CN(C)C#N': 'solvent_cls_4',\n",
       " 'O=C1CCCO1': 'solvent_cls_4',\n",
       " 'CC(=O)CC(C)=O': 'solvent_cls_4',\n",
       " 'O=C1CCC2CO[C@@H]1O2': 'solvent_cls_4',\n",
       " 'CCCCC(=O)O': 'solvent_cls_5',\n",
       " 'CCCCCC(=O)O': 'solvent_cls_5',\n",
       " 'CCCC(=O)O': 'solvent_cls_5',\n",
       " 'CCC(=O)O': 'solvent_cls_5',\n",
       " 'c1cc[nH]c1': 'solvent_cls_5',\n",
       " 'CCN(CC)CC': 'solvent_cls_6',\n",
       " 'CCN(CC)C(=O)N(CC)CC': 'solvent_cls_6',\n",
       " 'C1CCNCC1': 'solvent_cls_6',\n",
       " 'CCNCC': 'solvent_cls_6',\n",
       " 'CCCCNCCCC': 'solvent_cls_6',\n",
       " 'c1ccncc1': 'solvent_cls_6',\n",
       " 'Cc1ccccn1': 'solvent_cls_6',\n",
       " 'Cc1cccc(C)n1': 'solvent_cls_6',\n",
       " 'Cc1cccnc1': 'solvent_cls_6',\n",
       " 'Cc1ccnc(C)c1': 'solvent_cls_6',\n",
       " 'Cc1cc(C)nc(C)c1': 'solvent_cls_6',\n",
       " 'CCCCN': 'solvent_cls_6',\n",
       " 'CC(=O)N(C)C': 'solvent_cls_6',\n",
       " 'CCN(C=O)CC': 'solvent_cls_6',\n",
       " 'CN(C)C=O': 'solvent_cls_6',\n",
       " 'CNC(C)=O': 'solvent_cls_6',\n",
       " 'O=C1CCCN1': 'solvent_cls_6',\n",
       " 'C1CCOC1': 'solvent_cls_6',\n",
       " 'C1COCCN1': 'solvent_cls_6',\n",
       " 'COP(=O)(OC)OC': 'solvent_cls_6',\n",
       " 'CCOP(=O)(OCC)OCC': 'solvent_cls_6',\n",
       " 'CCCCOP(=O)(OCCCC)OCCCC': 'solvent_cls_6',\n",
       " 'C1CCNC1': 'solvent_cls_6',\n",
       " 'CCCCS(=O)CCCC': 'solvent_cls_6',\n",
       " 'CN(C)C(=O)N(C)C': 'solvent_cls_6',\n",
       " 'CN1CCCC1=O': 'solvent_cls_6',\n",
       " 'CCN(CC)C(C)=O': 'solvent_cls_6',\n",
       " 'NCCN': 'solvent_cls_7',\n",
       " 'CS(C)=O': 'solvent_cls_7',\n",
       " 'NN': 'solvent_cls_7',\n",
       " 'O=C1OCCO1': 'solvent_cls_7',\n",
       " 'CC1COC(=O)O1': 'solvent_cls_7',\n",
       " 'N': 'solvent_cls_7',\n",
       " 'Cc1ccc(O)cc1': 'solvent_cls_8',\n",
       " 'Cc1cccc(O)c1': 'solvent_cls_8',\n",
       " 'Cc1ccc(O)c(C)c1': 'solvent_cls_8',\n",
       " 'Cc1ccccc1O': 'solvent_cls_8',\n",
       " 'OCCCl': 'solvent_cls_8',\n",
       " 'Oc1ccccc1': 'solvent_cls_8',\n",
       " 'CC(=O)O': 'solvent_cls_8',\n",
       " 'N#CCCO': 'solvent_cls_8',\n",
       " 'CCCCCCC(=O)O': 'solvent_cls_8',\n",
       " 'O=CO': 'solvent_cls_8',\n",
       " 'CS(=O)(=O)O': 'solvent_cls_8',\n",
       " 'O=P(Cl)(Cl)Cl': 'solvent_cls_8',\n",
       " 'CC[N+](=O)[O-]': 'solvent_cls_8',\n",
       " 'C[N+](=O)[O-]': 'solvent_cls_8',\n",
       " 'O=S=O': 'solvent_cls_8',\n",
       " 'Nc1ccccc1Cl': 'solvent_cls_8',\n",
       " 'ClCC(Cl)Cl': 'solvent_cls_8',\n",
       " 'O=S(Cl)Cl': 'solvent_cls_8',\n",
       " 'OCC(F)(F)F': 'solvent_cls_8',\n",
       " 'Nc1ccccc1': 'solvent_cls_9',\n",
       " 'COc1ccccc1O': 'solvent_cls_9',\n",
       " 'COS(=O)(=O)OC': 'solvent_cls_9',\n",
       " 'CC(=O)C(C)=O': 'solvent_cls_9',\n",
       " 'CNc1ccccc1': 'solvent_cls_9',\n",
       " 'CCCC#N': 'solvent_cls_9',\n",
       " 'CC(C)CC#N': 'solvent_cls_9',\n",
       " 'CCC#N': 'solvent_cls_9',\n",
       " 'N#CCc1ccccc1': 'solvent_cls_9',\n",
       " 'CC(=O)c1ccc(Cl)cc1': 'solvent_cls_9',\n",
       " 'N#Cc1ccccc1': 'solvent_cls_9',\n",
       " 'CC(=O)OC(C)=O': 'solvent_cls_9',\n",
       " 'N#Cc1ccccn1': 'solvent_cls_9',\n",
       " 'CN(C)C=S': 'solvent_cls_9',\n",
       " 'C=CC#N': 'solvent_cls_9',\n",
       " 'CC#N': 'solvent_cls_9',\n",
       " 'CCOC(=O)C(Cl)(Cl)Cl': 'solvent_cls_9',\n",
       " 'O=C(Br)c1ccccc1': 'solvent_cls_9',\n",
       " 'O=C(Cl)c1ccccc1': 'solvent_cls_9',\n",
       " 'O=[N+]([O-])c1ccccc1': 'solvent_cls_9',\n",
       " 'CCOC(=O)CCl': 'solvent_cls_9',\n",
       " 'CCC[N+](=O)[O-]': 'solvent_cls_9',\n",
       " 'CC(C)[N+](=O)[O-]': 'solvent_cls_9',\n",
       " 'ClCCCl': 'solvent_cls_9'}"
      ]
     },
     "execution_count": 8,
     "metadata": {},
     "output_type": "execute_result"
    }
   ],
   "source": [
    "# canonical_solvent_classfication_ssi\n",
    "solvent2cls = {}\n",
    "for solvent_cls,  solvent_cls_smiles_list in canonical_solvent_classfication_ssi.items():\n",
    "    for smi in solvent_cls_smiles_list:\n",
    "        solvent2cls[smi] = solvent_cls\n",
    "solvent2cls"
   ]
  },
  {
   "cell_type": "code",
   "execution_count": 9,
   "metadata": {},
   "outputs": [],
   "source": [
    "cls_cnt_dict = defaultdict(int)\n",
    "uspto_solvent_to_cls = {}\n",
    "unk_idx = 0\n",
    "for solvent_smiles in solvent_list:\n",
    "    if solvent_smiles in solvent2cls:\n",
    "        uspto_solvent_to_cls[solvent_smiles] = solvent2cls[solvent_smiles]\n",
    "        cls_cnt_dict[solvent2cls[solvent_smiles]] += 1\n",
    "    else:\n",
    "        uspto_solvent_to_cls[solvent_smiles] = f'unk{unk_idx}'\n",
    "        cls_cnt_dict[f'unk{unk_idx}'] += 1\n",
    "        unk_idx += 1"
   ]
  },
  {
   "cell_type": "code",
   "execution_count": 10,
   "metadata": {},
   "outputs": [
    {
     "data": {
      "text/plain": [
       "defaultdict(int,\n",
       "            {'unk0': 1,\n",
       "             'unk1': 1,\n",
       "             'solvent_cls_12': 5,\n",
       "             'solvent_cls_6': 8,\n",
       "             'unk2': 1,\n",
       "             'solvent_cls_9': 5,\n",
       "             'solvent_cls_3': 9,\n",
       "             'solvent_cls_8': 7,\n",
       "             'unk3': 1,\n",
       "             'solvent_cls_2': 15,\n",
       "             'solvent_cls_4': 2,\n",
       "             'solvent_cls_11': 6,\n",
       "             'unk4': 1,\n",
       "             'solvent_cls_1': 2,\n",
       "             'unk5': 1,\n",
       "             'unk6': 1,\n",
       "             'solvent_cls_10': 7,\n",
       "             'solvent_cls_7': 2,\n",
       "             'unk7': 1,\n",
       "             'solvent_cls_13': 1,\n",
       "             'solvent_cls_14': 2,\n",
       "             'unk8': 1,\n",
       "             'unk9': 1,\n",
       "             'unk10': 1,\n",
       "             'unk11': 1,\n",
       "             'unk12': 1,\n",
       "             'unk13': 1,\n",
       "             'unk14': 1,\n",
       "             'unk15': 1})"
      ]
     },
     "execution_count": 10,
     "metadata": {},
     "output_type": "execute_result"
    }
   ],
   "source": [
    "cls_cnt_dict"
   ]
  },
  {
   "cell_type": "code",
   "execution_count": 11,
   "metadata": {},
   "outputs": [],
   "source": [
    "uspto_solvent_cls_name2cls_idx_dict = {name:idx for idx, name in enumerate(list(cls_cnt_dict.keys()))}"
   ]
  },
  {
   "cell_type": "code",
   "execution_count": 12,
   "metadata": {},
   "outputs": [
    {
     "data": {
      "text/plain": [
       "{'unk0': 0,\n",
       " 'unk1': 1,\n",
       " 'solvent_cls_12': 2,\n",
       " 'solvent_cls_6': 3,\n",
       " 'unk2': 4,\n",
       " 'solvent_cls_9': 5,\n",
       " 'solvent_cls_3': 6,\n",
       " 'solvent_cls_8': 7,\n",
       " 'unk3': 8,\n",
       " 'solvent_cls_2': 9,\n",
       " 'solvent_cls_4': 10,\n",
       " 'solvent_cls_11': 11,\n",
       " 'unk4': 12,\n",
       " 'solvent_cls_1': 13,\n",
       " 'unk5': 14,\n",
       " 'unk6': 15,\n",
       " 'solvent_cls_10': 16,\n",
       " 'solvent_cls_7': 17,\n",
       " 'unk7': 18,\n",
       " 'solvent_cls_13': 19,\n",
       " 'solvent_cls_14': 20,\n",
       " 'unk8': 21,\n",
       " 'unk9': 22,\n",
       " 'unk10': 23,\n",
       " 'unk11': 24,\n",
       " 'unk12': 25,\n",
       " 'unk13': 26,\n",
       " 'unk14': 27,\n",
       " 'unk15': 28}"
      ]
     },
     "execution_count": 12,
     "metadata": {},
     "output_type": "execute_result"
    }
   ],
   "source": [
    "uspto_solvent_cls_name2cls_idx_dict"
   ]
  },
  {
   "cell_type": "code",
   "execution_count": 13,
   "metadata": {},
   "outputs": [],
   "source": [
    "uspto_solvent_to_cls    # 溶剂分组\n",
    "uspto_solvent_to_cls_idx = {}\n",
    "for solvent in uspto_solvent_to_cls:\n",
    "    uspto_solvent_to_cls_idx[solvent] = uspto_solvent_cls_name2cls_idx_dict[uspto_solvent_to_cls[solvent]]"
   ]
  },
  {
   "cell_type": "code",
   "execution_count": 14,
   "metadata": {},
   "outputs": [],
   "source": [
    "uspto_solvent_to_cls_idx\n",
    "with open('./condition_classfication_data/uspto_solvent_to_cls_idx.json', 'w', encoding='utf-8') as f:\n",
    "    json.dump(uspto_solvent_to_cls_idx, f)"
   ]
  },
  {
   "cell_type": "code",
   "execution_count": 15,
   "metadata": {},
   "outputs": [],
   "source": [
    "from rdkit.Chem.Fingerprints import FingerprintMols\n",
    "from rdkit import DataStructs\n",
    "def is_similar_reagent(rgt1, rgt2):\n",
    "\tif rgt1 == rgt2:\n",
    "\t\treturn True\n",
    "\n",
    "\telse:\n",
    "\t\ttry:\n",
    "\t\t\tmol1 = Chem.MolFromSmiles(rgt1)\n",
    "\t\t\tmol2 = Chem.MolFromSmiles(rgt2)\n",
    "\t\t\tfp1 = FingerprintMols.FingerprintMol(mol1)\n",
    "\t\t\tfp2 = FingerprintMols.FingerprintMol(mol2)\n",
    "\t\texcept:\n",
    "\t\t\tprint('cannot calculate fp')\n",
    "\t\t\treturn False\n",
    "\t\tif not any(list(fp1)) or not any(list(fp2)):\n",
    "\t\t\treturn False\n",
    "\t\tsimilarity = DataStructs.FingerprintSimilarity(fp1,fp2)\n",
    "\t\tif similarity >=1.0:\n",
    "\t\t\treturn True\n",
    "\t\telse:\n",
    "\t\t\treturn False"
   ]
  },
  {
   "cell_type": "code",
   "execution_count": 16,
   "metadata": {},
   "outputs": [
    {
     "data": {
      "text/plain": [
       "False"
      ]
     },
     "execution_count": 16,
     "metadata": {},
     "output_type": "execute_result"
    }
   ],
   "source": [
    "is_similar_reagent('Cc1ccccc1','CCc1ccccc1')"
   ]
  },
  {
   "cell_type": "code",
   "execution_count": 17,
   "metadata": {},
   "outputs": [],
   "source": [
    "import numpy as np\n",
    "features_smarts = [\n",
    "    '[!H0;#7,#8,#9]', # 氢键供体\n",
    "    '[!$([#6,H0,-,-2,-3])]', # 氢键供体\n",
    "    '[!$([#6,F,Cl,Br,I,o,s,nX3,#7v5,#15v5,#16v4,#16v6,*+1,*+2,*+3])]',     # 氢键受体\n",
    "    '[#6,#7;R0]=[#8]', # 氢键受体\n",
    "    \n",
    "    '[CX3](=[OX1])[F,Cl,Br,I]', # 酰卤化合物\n",
    "    '[$([#16X4](=[OX1])(=[OX1])([#6])[OX2H,OX1H0-]),$([#16X4+2]([OX1-])([OX1-])([#6])[OX2H,OX1H0-])]', # 磺酸\n",
    "    '[$(P(=[OX1])([$([OX2H]),$([OX1-]),$([OX2]P)])([$([OX2H]),$([OX1-]),$([OX2]P)])[$([OX2H]),$([OX1-]),$([OX2]P)]),$([P+]([OX1-])([$([OX2H]),$([OX1-]),$([OX2]P)])([$([OX2H]),$([OX1-]),$([OX2]P)])[$([OX2H]),$([OX1-]),$([OX2]P)])]', #磷酸\n",
    "    '[$([OH]-*=[!#6])]', # 羟基\n",
    "    '[CX3](=O)[OX2H1]', # 羧酸\n",
    "    '[$([CX3]=[OX1]),$([CX3+]-[OX1-])]', # 羰基\n",
    "    '[CX3](=[OX1])C',\n",
    "    '[OX1]=CN',\n",
    "    '[CX3](=[OX1])O',\n",
    "    '[CX3](=[OX1])[F,Cl,Br,I]',\n",
    "    '[CX3H1](=O)[#6]',\n",
    "    '[CX3](=[OX1])[OX2][CX3](=[OX1])', # 酸酐\n",
    "    '[NX3][CX3](=[OX1])[#6]', # 酰胺\n",
    "    '[NX3][CX3]=[NX3+]',\n",
    "    '[NX3,NX4+][CX3](=[OX1])[OX2,OX1-]',\n",
    "    '[CX3](=O)[O-]', # 羧酸盐离子\n",
    "    '[CX3](=[OX1])(O)O', # 碳酸或碳酸脂\n",
    "    '[CX3](=O)[OX1H0-,OX2H1]',  #羧酸或共轭碱\n",
    "    '[NX2-]',\n",
    "    '[OX2H+]=*',\n",
    "    '[OX3H2+]',\n",
    "    '[#6+]',\n",
    "    '[$([cX2+](:*):*)]',\n",
    "    '[$([NX1-]=[NX2+]=[NX1-]),$([NX1]#[NX2+]-[NX1-2])]',\n",
    "    '[+1]~*~*~[-1]',\n",
    "    '[+]', # 阳离子\n",
    "    '[-]', # 阴离子\n",
    "    '[$([cX3](:*):*),$([cX2+](:*):*)]', # 芳香SP2碳\n",
    "    '[$([cX3](:*):*),$([cX2+](:*):*),$([CX3]=*),$([CX2+]=*)]', #任何SP2碳\n",
    "    '[C]', # 包含碳\n",
    "    '[N]', # 包含氮\n",
    "    '[O]', # 包含氧\n",
    "    '[P]',\n",
    "    '[c]',\n",
    "    '[n]',\n",
    "    '[S]',\n",
    "    '[B]',\n",
    "    '[Na,K,Li]',\n",
    "    '[Si]',\n",
    "    \n",
    "    \n",
    "    '[O;H1]-[C,S]([O,S,P])', # '[O;H1]-[C,S](4[O,S,P])',\n",
    "    '[F,Cl,Br,I]',           # 卤素\n",
    "    '[$([A;D3](@*)(@*)~*)]', #\n",
    "    '[$([a;D3](@*)(@*)*)]',\n",
    "    '[!#1;!#6;!#7;!#8;!#9;!#16;!#17;!#35;!#53]',  \n",
    "    ]\n",
    "features_patts = [Chem.MolFromSmarts(x) for x in features_smarts]\n",
    "\n",
    "def calculate_reagent_fps(mol, features_patts):\n",
    "\n",
    "    fp = np.asarray([mol.HasSubstructMatch(patt) for patt in features_patts], dtype='int8')\n",
    "    \n",
    "    return fp\n",
    "\n",
    "def calculate_reagent_similarity_with_fp(fp1, fp2):\n",
    "    if not any(list(fp1)) or not any(list(fp2)):\n",
    "        return False\n",
    "    return (fp1 == fp2).all()\n",
    "\n",
    "def calculate_reagent_similarity(smi1, smi2, features_patts=features_patts):\n",
    "    # reagent feature\n",
    "\n",
    "    try:\n",
    "        mol1 = Chem.MolFromSmiles(smi1)\n",
    "        mol2 = Chem.MolFromSmiles(smi2)\n",
    "        fp1 = calculate_reagent_fps(mol1, features_patts=features_patts)\n",
    "        fp2 = calculate_reagent_fps(mol2, features_patts=features_patts)\n",
    "    except:\n",
    "        return False\n",
    "    \n",
    "    return calculate_reagent_similarity_with_fp(fp1, fp2)"
   ]
  },
  {
   "cell_type": "code",
   "execution_count": 18,
   "metadata": {},
   "outputs": [
    {
     "data": {
      "text/plain": [
       "array([0, 0, 0, 0, 0, 0, 0, 0, 0, 0, 0, 0, 0, 0, 0, 0, 0, 0, 0, 0, 0, 0,\n",
       "       0, 0, 0, 0, 0, 0, 0, 1, 1, 0, 0, 0, 0, 0, 0, 0, 0, 0, 0, 1, 0, 0,\n",
       "       1, 0, 0, 1], dtype=int8)"
      ]
     },
     "execution_count": 18,
     "metadata": {},
     "output_type": "execute_result"
    }
   ],
   "source": [
    "fp1 = calculate_reagent_fps(Chem.MolFromSmiles('[Br-].[K+]'), features_patts)\n",
    "fp1"
   ]
  },
  {
   "cell_type": "code",
   "execution_count": 19,
   "metadata": {},
   "outputs": [
    {
     "data": {
      "text/plain": [
       "array([0, 0, 0, 0, 0, 0, 0, 0, 0, 0, 0, 0, 0, 0, 0, 0, 0, 0, 0, 0, 0, 0,\n",
       "       0, 0, 0, 0, 0, 0, 0, 1, 1, 0, 0, 0, 0, 0, 0, 0, 0, 0, 0, 1, 0, 0,\n",
       "       1, 0, 0, 1], dtype=int8)"
      ]
     },
     "execution_count": 19,
     "metadata": {},
     "output_type": "execute_result"
    }
   ],
   "source": [
    "fp2 = calculate_reagent_fps(Chem.MolFromSmiles('[Br-].[Na+]'), features_patts)\n",
    "fp2"
   ]
  },
  {
   "cell_type": "code",
   "execution_count": 20,
   "metadata": {},
   "outputs": [
    {
     "data": {
      "text/plain": [
       "True"
      ]
     },
     "execution_count": 20,
     "metadata": {},
     "output_type": "execute_result"
    }
   ],
   "source": [
    "calculate_reagent_similarity('[Br-].[K+]', '[Br-].[Na+]')"
   ]
  },
  {
   "cell_type": "code",
   "execution_count": 21,
   "metadata": {},
   "outputs": [],
   "source": [
    "none_fp = ''.join(['0']*len(features_patts))\n",
    "none_mark = 0\n",
    "reagent_classification_with_fp = defaultdict(list)\n",
    "for reagent in reagent_list:\n",
    "    reagent_mol = Chem.MolFromSmiles(reagent)\n",
    "    reagent_fp = calculate_reagent_fps(reagent_mol, features_patts)\n",
    "    if ''.join([str(x) for x in reagent_fp.tolist()]) == none_fp:\n",
    "        reagent_classification_with_fp[none_fp + str(none_mark)].append(reagent)\n",
    "        none_mark += 1\n",
    "    else:\n",
    "        reagent_classification_with_fp[''.join([str(x) for x in reagent_fp.tolist()])].append(reagent)\n",
    "    "
   ]
  },
  {
   "cell_type": "code",
   "execution_count": 22,
   "metadata": {},
   "outputs": [
    {
     "data": {
      "text/plain": [
       "145"
      ]
     },
     "execution_count": 22,
     "metadata": {},
     "output_type": "execute_result"
    }
   ],
   "source": [
    "len(reagent_classification_with_fp)"
   ]
  },
  {
   "cell_type": "code",
   "execution_count": 23,
   "metadata": {},
   "outputs": [],
   "source": [
    "with open('./condition_classfication_data/reagent_classification_with_fp.json', 'w', encoding='utf-8') as f:\n",
    "    json.dump(reagent_classification_with_fp, f)\n",
    "# reagent_classification_with_fp"
   ]
  },
  {
   "cell_type": "code",
   "execution_count": 24,
   "metadata": {},
   "outputs": [],
   "source": [
    "reagent_classification_dict = defaultdict(list)\n",
    "fp_sorts = list(reagent_classification_with_fp)\n",
    "fp_sorts.sort()\n",
    "reagent_cls = 0\n",
    "for fp in fp_sorts:\n",
    "    reagent_cls += 1\n",
    "    reagent_classification_dict['reagent_cls_{}'.format(reagent_cls)].extend(reagent_classification_with_fp[fp])\n",
    "    "
   ]
  },
  {
   "cell_type": "code",
   "execution_count": 25,
   "metadata": {},
   "outputs": [],
   "source": [
    "uspto_reagent_cls_name2cls_idx = {}\n",
    "for r_cls, r_list in reagent_classification_dict.items():\n",
    "    for r in r_list:\n",
    "        uspto_reagent_cls_name2cls_idx[r] = int(r_cls.replace('reagent_cls_', '')) - 1"
   ]
  },
  {
   "cell_type": "code",
   "execution_count": 26,
   "metadata": {},
   "outputs": [],
   "source": [
    "uspto_reagent_cls_name2cls_idx\n",
    "with open('./condition_classfication_data/uspto_reagent_to_cls_idx.json', 'w', encoding='utf-8') as f:\n",
    "    json.dump(uspto_reagent_cls_name2cls_idx, f)"
   ]
  }
 ],
 "metadata": {
  "kernelspec": {
   "display_name": "Python 3.7.7 ('retro_planner_env')",
   "language": "python",
   "name": "python3"
  },
  "language_info": {
   "codemirror_mode": {
    "name": "ipython",
    "version": 3
   },
   "file_extension": ".py",
   "mimetype": "text/x-python",
   "name": "python",
   "nbconvert_exporter": "python",
   "pygments_lexer": "ipython3",
   "version": "3.7.7"
  },
  "orig_nbformat": 4,
  "vscode": {
   "interpreter": {
    "hash": "5036c44e76655b3468fffa7aa30494d35010da1d33a8e800c4a0ea392d3ac59e"
   }
  }
 },
 "nbformat": 4,
 "nbformat_minor": 2
}
